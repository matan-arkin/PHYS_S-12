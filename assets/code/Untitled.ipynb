{
 "cells": [
  {
   "cell_type": "code",
   "execution_count": 4,
   "metadata": {},
   "outputs": [
    {
     "name": "stdout",
     "output_type": "stream",
     "text": [
      "Requirement already satisfied: tensorflow==2.4.0 in c:\\users\\matan\\anaconda3\\lib\\site-packages (2.4.0)\n",
      "Requirement already satisfied: six~=1.15.0 in c:\\users\\matan\\anaconda3\\lib\\site-packages (from tensorflow==2.4.0) (1.15.0)\n",
      "Requirement already satisfied: wheel~=0.35 in c:\\users\\matan\\anaconda3\\lib\\site-packages (from tensorflow==2.4.0) (0.36.2)\n",
      "Requirement already satisfied: tensorflow-estimator<2.5.0,>=2.4.0rc0 in c:\\users\\matan\\anaconda3\\lib\\site-packages (from tensorflow==2.4.0) (2.4.0)\n",
      "Requirement already satisfied: gast==0.3.3 in c:\\users\\matan\\anaconda3\\lib\\site-packages (from tensorflow==2.4.0) (0.3.3)\n",
      "Requirement already satisfied: numpy~=1.19.2 in c:\\users\\matan\\anaconda3\\lib\\site-packages (from tensorflow==2.4.0) (1.19.5)\n",
      "Requirement already satisfied: typing-extensions~=3.7.4 in c:\\users\\matan\\anaconda3\\lib\\site-packages (from tensorflow==2.4.0) (3.7.4.2)\n",
      "Requirement already satisfied: wrapt~=1.12.1 in c:\\users\\matan\\anaconda3\\lib\\site-packages (from tensorflow==2.4.0) (1.12.1)\n",
      "Requirement already satisfied: astunparse~=1.6.3 in c:\\users\\matan\\anaconda3\\lib\\site-packages (from tensorflow==2.4.0) (1.6.3)\n",
      "Requirement already satisfied: absl-py~=0.10 in c:\\users\\matan\\anaconda3\\lib\\site-packages (from tensorflow==2.4.0) (0.13.0)\n",
      "Requirement already satisfied: flatbuffers~=1.12.0 in c:\\users\\matan\\anaconda3\\lib\\site-packages (from tensorflow==2.4.0) (1.12)\n",
      "Requirement already satisfied: termcolor~=1.1.0 in c:\\users\\matan\\anaconda3\\lib\\site-packages (from tensorflow==2.4.0) (1.1.0)\n",
      "Requirement already satisfied: tensorboard~=2.4 in c:\\users\\matan\\anaconda3\\lib\\site-packages (from tensorflow==2.4.0) (2.5.0)\n",
      "Requirement already satisfied: opt-einsum~=3.3.0 in c:\\users\\matan\\anaconda3\\lib\\site-packages (from tensorflow==2.4.0) (3.3.0)\n",
      "Requirement already satisfied: h5py~=2.10.0 in c:\\users\\matan\\anaconda3\\lib\\site-packages (from tensorflow==2.4.0) (2.10.0)\n",
      "Requirement already satisfied: keras-preprocessing~=1.1.2 in c:\\users\\matan\\anaconda3\\lib\\site-packages (from tensorflow==2.4.0) (1.1.2)\n",
      "Requirement already satisfied: protobuf>=3.9.2 in c:\\users\\matan\\anaconda3\\lib\\site-packages (from tensorflow==2.4.0) (3.17.3)\n",
      "Requirement already satisfied: google-pasta~=0.2 in c:\\users\\matan\\anaconda3\\lib\\site-packages (from tensorflow==2.4.0) (0.2.0)\n",
      "Requirement already satisfied: grpcio~=1.32.0 in c:\\users\\matan\\anaconda3\\lib\\site-packages (from tensorflow==2.4.0) (1.32.0)\n",
      "Requirement already satisfied: markdown>=2.6.8 in c:\\users\\matan\\anaconda3\\lib\\site-packages (from tensorboard~=2.4->tensorflow==2.4.0) (3.3.4)\n",
      "Requirement already satisfied: google-auth-oauthlib<0.5,>=0.4.1 in c:\\users\\matan\\anaconda3\\lib\\site-packages (from tensorboard~=2.4->tensorflow==2.4.0) (0.4.4)\n",
      "Requirement already satisfied: werkzeug>=0.11.15 in c:\\users\\matan\\anaconda3\\lib\\site-packages (from tensorboard~=2.4->tensorflow==2.4.0) (1.0.1)\n",
      "Requirement already satisfied: setuptools>=41.0.0 in c:\\users\\matan\\anaconda3\\lib\\site-packages (from tensorboard~=2.4->tensorflow==2.4.0) (49.2.0.post20200714)\n",
      "Requirement already satisfied: tensorboard-plugin-wit>=1.6.0 in c:\\users\\matan\\anaconda3\\lib\\site-packages (from tensorboard~=2.4->tensorflow==2.4.0) (1.8.0)\n",
      "Requirement already satisfied: requests<3,>=2.21.0 in c:\\users\\matan\\anaconda3\\lib\\site-packages (from tensorboard~=2.4->tensorflow==2.4.0) (2.24.0)\n",
      "Requirement already satisfied: tensorboard-data-server<0.7.0,>=0.6.0 in c:\\users\\matan\\anaconda3\\lib\\site-packages (from tensorboard~=2.4->tensorflow==2.4.0) (0.6.1)\n",
      "Requirement already satisfied: google-auth<2,>=1.6.3 in c:\\users\\matan\\anaconda3\\lib\\site-packages (from tensorboard~=2.4->tensorflow==2.4.0) (1.34.0)\n",
      "Requirement already satisfied: requests-oauthlib>=0.7.0 in c:\\users\\matan\\anaconda3\\lib\\site-packages (from google-auth-oauthlib<0.5,>=0.4.1->tensorboard~=2.4->tensorflow==2.4.0) (1.3.0)\n",
      "Requirement already satisfied: urllib3!=1.25.0,!=1.25.1,<1.26,>=1.21.1 in c:\\users\\matan\\anaconda3\\lib\\site-packages (from requests<3,>=2.21.0->tensorboard~=2.4->tensorflow==2.4.0) (1.25.9)\n",
      "Requirement already satisfied: certifi>=2017.4.17 in c:\\users\\matan\\anaconda3\\lib\\site-packages (from requests<3,>=2.21.0->tensorboard~=2.4->tensorflow==2.4.0) (2020.6.20)\n",
      "Requirement already satisfied: idna<3,>=2.5 in c:\\users\\matan\\anaconda3\\lib\\site-packages (from requests<3,>=2.21.0->tensorboard~=2.4->tensorflow==2.4.0) (2.10)\n",
      "Requirement already satisfied: chardet<4,>=3.0.2 in c:\\users\\matan\\anaconda3\\lib\\site-packages (from requests<3,>=2.21.0->tensorboard~=2.4->tensorflow==2.4.0) (3.0.4)\n",
      "Requirement already satisfied: pyasn1-modules>=0.2.1 in c:\\users\\matan\\anaconda3\\lib\\site-packages (from google-auth<2,>=1.6.3->tensorboard~=2.4->tensorflow==2.4.0) (0.2.8)\n",
      "Requirement already satisfied: cachetools<5.0,>=2.0.0 in c:\\users\\matan\\anaconda3\\lib\\site-packages (from google-auth<2,>=1.6.3->tensorboard~=2.4->tensorflow==2.4.0) (4.2.2)\n",
      "Requirement already satisfied: rsa<5,>=3.1.4; python_version >= \"3.6\" in c:\\users\\matan\\anaconda3\\lib\\site-packages (from google-auth<2,>=1.6.3->tensorboard~=2.4->tensorflow==2.4.0) (4.7.2)\n",
      "Requirement already satisfied: oauthlib>=3.0.0 in c:\\users\\matan\\anaconda3\\lib\\site-packages (from requests-oauthlib>=0.7.0->google-auth-oauthlib<0.5,>=0.4.1->tensorboard~=2.4->tensorflow==2.4.0) (3.1.1)\n",
      "Requirement already satisfied: pyasn1<0.5.0,>=0.4.6 in c:\\users\\matan\\anaconda3\\lib\\site-packages (from pyasn1-modules>=0.2.1->google-auth<2,>=1.6.3->tensorboard~=2.4->tensorflow==2.4.0) (0.4.8)\n",
      "Note: you may need to restart the kernel to use updated packages.\n"
     ]
    }
   ],
   "source": [
    "pip install tensorflow==2.4.0\n"
   ]
  }
 ],
 "metadata": {
  "kernelspec": {
   "display_name": "Python 3",
   "language": "python",
   "name": "python3"
  },
  "language_info": {
   "codemirror_mode": {
    "name": "ipython",
    "version": 3
   },
   "file_extension": ".py",
   "mimetype": "text/x-python",
   "name": "python",
   "nbconvert_exporter": "python",
   "pygments_lexer": "ipython3",
   "version": "3.8.3"
  }
 },
 "nbformat": 4,
 "nbformat_minor": 4
}
